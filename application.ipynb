from flask import Flask,render_template,request
import os

app = Flask(__name__)

@app.route('/',methods=['GET','POST'])
def index_lulu():
    if request.method == "GET":
        return render_template('bokehAll.html')
    else:
        if request.form["userinfoform"]=="All":
            return render_template('bokehAll.html')
        if request.form["userinfoform"]=="Jan":
            return render_template('bokehJan.html')
        if request.form["userinfoform"]=="Feb":
            return render_template('bokehFeb.html')
        if request.form["userinfoform"]=="Mar":
            return render_template('bokehMar.html')
        if request.form["userinfoform"]=="Apr":
            return render_template('bokehApr.html')
        if request.form["userinfoform"]=="May":
            return render_template('bokehMay.html')
        if request.form["userinfoform"]=="Jun":
            return render_template('bokehJun.html')
        if request.form["userinfoform"]=="Jul":
            return render_template('bokehJul.html')
        if request.form["userinfoform"]=="Aug":
            return render_template('bokehAug.html')
        if request.form["userinfoform"]=="Sep":
            return render_template('bokehSep.html')
        if request.form["userinfoform"]=="Oct":
            return render_template('bokehOct.html')
        if request.form["userinfoform"]=="Nov":
            return render_template('bokehNov.html')
        if request.form["userinfoform"]=="Dec":
            return render_template('bokehDec.html')

@app.route('/static/<path:path>')
def static_file(path):
    return app.send_static_file(os.path.join('static', path))        

if __name__ == "__main__":
    app.debug=False
    app.run(host='0.0.0.0')
